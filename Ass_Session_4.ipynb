{
  "nbformat": 4,
  "nbformat_minor": 0,
  "metadata": {
    "colab": {
      "private_outputs": true,
      "provenance": []
    },
    "kernelspec": {
      "name": "python3",
      "display_name": "Python 3"
    },
    "language_info": {
      "name": "python"
    }
  },
  "cells": [
    {
      "cell_type": "markdown",
      "source": [
        "### Create a simple class names calculator"
      ],
      "metadata": {
        "id": "2a0y9sz6Znvf"
      }
    },
    {
      "cell_type": "code",
      "source": [
        "class Calculator():\n",
        "  pass"
      ],
      "metadata": {
        "id": "nLNnLWLhxius"
      },
      "execution_count": null,
      "outputs": []
    },
    {
      "cell_type": "markdown",
      "source": [
        "### Create a constructor that prints Welcome message"
      ],
      "metadata": {
        "id": "h-9hbnhMZrdV"
      }
    },
    {
      "cell_type": "code",
      "source": [
        "class Calculator():\n",
        "  def __init__(self):\n",
        "    print(\"Welcome\")\n",
        "p = Calculator()\n"
      ],
      "metadata": {
        "id": "9xkOD4FKxt7N"
      },
      "execution_count": null,
      "outputs": []
    },
    {
      "cell_type": "markdown",
      "source": [
        "###  Add 2 methods to the class sum & mull"
      ],
      "metadata": {
        "id": "CciUtqOgZtr9"
      }
    },
    {
      "cell_type": "code",
      "source": [
        "class Calculator():\n",
        "  def __init__(self):\n",
        "    print(\"Welcome\")\n",
        "\n",
        "  def sum(self, num1, num2):\n",
        "    pass\n",
        "\n",
        "  def mul(self, num1, num2):\n",
        "    pass\n"
      ],
      "metadata": {
        "id": "v5YB5XZHySPr"
      },
      "execution_count": null,
      "outputs": []
    },
    {
      "cell_type": "markdown",
      "source": [
        "###  The sum method return the sum of 2 arguments x and y"
      ],
      "metadata": {
        "id": "KX9v_nj0ZwX7"
      }
    },
    {
      "cell_type": "code",
      "source": [
        "class Calculator():\n",
        "  def __init__(self):\n",
        "    print(\"Welcome\")\n",
        "\n",
        "  def sum(self, num1, num2):\n",
        "    self.Number1 = num1\n",
        "    self.Number2 = num2\n",
        "    return self.Number1 + self.Number2\n",
        "\n",
        "cal = Calculator()\n",
        "print(cal.sum(10,2))\n",
        "\n"
      ],
      "metadata": {
        "id": "2Le1IxNa_Qc0"
      },
      "execution_count": null,
      "outputs": []
    },
    {
      "cell_type": "markdown",
      "source": [
        "### The mull method return the multiplication of the arguments x and y"
      ],
      "metadata": {
        "id": "z-zkBmIzZ1mI"
      }
    },
    {
      "cell_type": "code",
      "source": [
        "class Calculator():\n",
        "  def __init__(self):\n",
        "    print(\"Welcome\")\n",
        "\n",
        "  def mul(self, num1, num2):\n",
        "    self.Number1 = num1\n",
        "    self.Number2 = num2\n",
        "    return self.Number1 * self.Number2\n",
        "\n",
        "\n"
      ],
      "metadata": {
        "id": "NrTFVbTfihJc"
      },
      "execution_count": null,
      "outputs": []
    },
    {
      "cell_type": "markdown",
      "source": [
        "###  Take an object from the class"
      ],
      "metadata": {
        "id": "EvC_D3eHZ3mf"
      }
    },
    {
      "cell_type": "code",
      "source": [
        "cal = Calculator()\n",
        "y= cal.mul(10,2)\n",
        "print (y)"
      ],
      "metadata": {
        "id": "4_uoglIMi0eV"
      },
      "execution_count": null,
      "outputs": []
    },
    {
      "cell_type": "markdown",
      "source": [
        "### Explain in few words why we call the self in methods"
      ],
      "metadata": {
        "id": "hY6TnxuoZ9jw"
      }
    },
    {
      "cell_type": "markdown",
      "source": [
        "In Python, self is a special parameter that refers to the instance of the class on which the method is being called. When defining methods inside a class, it is a convention to always include self as the first parameter.\n",
        "\n"
      ],
      "metadata": {
        "id": "A5zsXY10dTFB"
      }
    },
    {
      "cell_type": "markdown",
      "source": [
        "### What we mean with OOP 4 Pillars"
      ],
      "metadata": {
        "id": "KdsHy2_CZ_d_"
      }
    },
    {
      "cell_type": "markdown",
      "source": [
        "Encapsulation, Inheritance and Polymorphism, and Abstraction"
      ],
      "metadata": {
        "id": "97NQj7Dyd9Iq"
      }
    },
    {
      "cell_type": "markdown",
      "source": [
        "###  Why we use OOP in our code"
      ],
      "metadata": {
        "id": "_WkKdEQSaBlt"
      }
    },
    {
      "cell_type": "markdown",
      "source": [
        "OOP is a programming paradigm that allows you to package together data states and functionality to modify those data states, while keeping the details hidden away. As a result, code with OOP design is flexible, modular, and abstract. This makes it particularly useful when you create larger programs."
      ],
      "metadata": {
        "id": "w4hXvRHmec-0"
      }
    },
    {
      "cell_type": "markdown",
      "source": [
        "### Create a new class names SciCalc with 3 methods , sum , mull , power all of them takes 2 argument x, y"
      ],
      "metadata": {
        "id": "IdJYRpDlaEca"
      }
    },
    {
      "cell_type": "code",
      "source": [
        "class SciCalc():\n",
        "  def __init__(self):\n",
        "    pass\n",
        "\n",
        "  def sum(self, num1, num2):\n",
        "    self.Number1 = num1\n",
        "    self.Number2 = num2\n",
        "    return self.Number1 + self.Number2\n",
        "\n",
        "  def mull(self, num1, num2):\n",
        "    self.Number1 = num1\n",
        "    self.Number2 = num2\n",
        "    return self.Number1 * self.Number2\n",
        "\n",
        "  def power_all(self, num):\n",
        "    self.Number = num\n",
        "    return self.Number **2"
      ],
      "metadata": {
        "id": "3hw__1-gXGmr"
      },
      "execution_count": null,
      "outputs": []
    },
    {
      "cell_type": "markdown",
      "source": [
        "### Sum return the sum of x and y"
      ],
      "metadata": {
        "id": "qV1wzT51aHlw"
      }
    },
    {
      "cell_type": "code",
      "source": [
        "cal = SciCalc()\n",
        "print(cal.sum(10,2))"
      ],
      "metadata": {
        "id": "gZbMkk0Fcbge"
      },
      "execution_count": null,
      "outputs": []
    },
    {
      "cell_type": "markdown",
      "source": [
        "###  Mull return the multiplication of x and y"
      ],
      "metadata": {
        "id": "EwdGJ1KVaJ9W"
      }
    },
    {
      "cell_type": "code",
      "source": [
        "print(cal.mull(10,2))"
      ],
      "metadata": {
        "id": "OSFKbHBTcevk"
      },
      "execution_count": null,
      "outputs": []
    },
    {
      "cell_type": "code",
      "source": [
        "print(cal.power_all(4))"
      ],
      "metadata": {
        "id": "a30TZ3UBezfr"
      },
      "execution_count": null,
      "outputs": []
    },
    {
      "cell_type": "markdown",
      "source": [
        "### Inherit from the Calc class , now remove the unneeded code the the SciCalc after inheriting\n"
      ],
      "metadata": {
        "id": "aNNs5VAzaVZx"
      }
    },
    {
      "cell_type": "code",
      "source": [
        "class Calculator():\n",
        "  def __init__(self):\n",
        "    pass\n",
        "\n",
        "  def sum(self, num1, num2):\n",
        "    self.Number1 = num1\n",
        "    self.Number2 = num2\n",
        "    return self.Number1 + self.Number2\n",
        "\n",
        "  def mull(self, num1, num2):\n",
        "    self.Number1 = num1\n",
        "    self.Number2 = num2\n",
        "    return self.Number1 * self.Number2\n",
        "\n",
        "  def power_all(self, num):\n",
        "    self.Number = num\n",
        "    return self.Number **2\n",
        "\n",
        "class SciCalc(Calculator):\n",
        "  pass\n"
      ],
      "metadata": {
        "id": "9p6FxTmJjRiG"
      },
      "execution_count": null,
      "outputs": []
    },
    {
      "cell_type": "code",
      "source": [
        "cal = SciCalc()\n",
        "print(cal.mull(10,2))\n",
        "print(cal.sum(10,2))\n",
        "print(cal.power_all(5))"
      ],
      "metadata": {
        "id": "2XiBM-Pxjpbz"
      },
      "execution_count": null,
      "outputs": []
    },
    {
      "cell_type": "markdown",
      "source": [
        "###Explain in few words what happened after inheriting"
      ],
      "metadata": {
        "id": "BkMXbHfMaf5S"
      }
    },
    {
      "cell_type": "markdown",
      "source": [
        "It allows a class, known as the child class, to inherit the attributes and methods of another class, referred to as the parent class."
      ],
      "metadata": {
        "id": "L4N0PYqqhz2q"
      }
    }
  ]
}