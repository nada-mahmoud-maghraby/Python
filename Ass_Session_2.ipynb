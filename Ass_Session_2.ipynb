{
  "nbformat": 4,
  "nbformat_minor": 0,
  "metadata": {
    "colab": {
      "private_outputs": true,
      "provenance": []
    },
    "kernelspec": {
      "name": "python3",
      "display_name": "Python 3"
    },
    "language_info": {
      "name": "python"
    }
  },
  "cells": [
    {
      "cell_type": "markdown",
      "source": [
        "### 1) Write a program to print the maximum between two numbers. (one-line conditional statement)\n"
      ],
      "metadata": {
        "id": "Ui8LKXjlii3V"
      }
    },
    {
      "cell_type": "code",
      "source": [
        "y= int(input(\"Enter the first number: \"))\n",
        "x= int(input(\"Enter the second number: \"))\n",
        "if(x > y):\n",
        "  print(x)\n",
        "else:\n",
        "  print(y)\n",
        "## print(x) if(x>y) else print(y)  ## simple_way"
      ],
      "metadata": {
        "id": "cb9YD0Jf8ELx"
      },
      "execution_count": null,
      "outputs": []
    },
    {
      "cell_type": "markdown",
      "source": [
        "### 2) Write a program to find the maximum between three numbers.\n"
      ],
      "metadata": {
        "id": "xQB_yP4rirZS"
      }
    },
    {
      "cell_type": "code",
      "source": [
        "y= int(input(\"Enter the first number: \"))\n",
        "x= int(input(\"Enter the second number: \"))\n",
        "z= int(input(\"Enter the third number: \"))\n",
        "if (x>y and x>z):\n",
        "  print(x)\n",
        "elif(y>x and y>z):\n",
        "  print(y)\n",
        "else:\n",
        "  print(z)"
      ],
      "metadata": {
        "id": "hTC14doB9Xvf"
      },
      "execution_count": null,
      "outputs": []
    },
    {
      "cell_type": "markdown",
      "source": [
        "### 3) Write a program to check whether a number is negative, or positive (one-line conditional statement)\n"
      ],
      "metadata": {
        "id": "di3xEq8mjBRK"
      }
    },
    {
      "cell_type": "code",
      "source": [
        "x= float(input(\"Enter the number: \"))\n",
        "print(\"Positive\") if(x>0) else print(\"Negative\")"
      ],
      "metadata": {
        "id": "WacVzh9uAHGw"
      },
      "execution_count": null,
      "outputs": []
    },
    {
      "cell_type": "markdown",
      "source": [
        "### 4) Write a  program to check whether a number is even or odd  (one-line statement).\n"
      ],
      "metadata": {
        "id": "grc5Gk_RjFBe"
      }
    },
    {
      "cell_type": "code",
      "source": [
        "x= float(input(\"Enter the number: \"))\n",
        "print(\"Even\") if(x%2 == 0) else print(\"Odd\")"
      ],
      "metadata": {
        "id": "MzC3rseoAeTn"
      },
      "execution_count": null,
      "outputs": []
    },
    {
      "cell_type": "markdown",
      "source": [
        "###5) Write a  program to check whether a year is a leap year or not. (one-line conditional statement).\n"
      ],
      "metadata": {
        "id": "-J3UtjpIjJPv"
      }
    },
    {
      "cell_type": "code",
      "source": [
        "year=int(input(\"Enter the year: \"))\n",
        "print(\"A year is a leap year\") if(year%4 == 0 and year%100 != 0 or year%400 == 0) else print(\"A year isn't a leap year\")"
      ],
      "metadata": {
        "id": "xBIiUXbCBDYb"
      },
      "execution_count": null,
      "outputs": []
    },
    {
      "cell_type": "markdown",
      "source": [
        "###6) Write a  program to store the weekdays in a list and access the week day and print it by index.\n"
      ],
      "metadata": {
        "id": "JeN4yaIMjNlC"
      }
    },
    {
      "cell_type": "code",
      "source": [
        "weekdays = input(\"Enter weekday: \")\n",
        "list = weekdays.split(\" \")\n",
        "for x in list:\n",
        "  print(x)"
      ],
      "metadata": {
        "id": "OdnNSqMVCz7c"
      },
      "execution_count": null,
      "outputs": []
    },
    {
      "cell_type": "markdown",
      "source": [
        "###7) Write a  program to print all alphabets from a to z using while loop"
      ],
      "metadata": {
        "id": "ST7uKJmtjYh1"
      }
    },
    {
      "cell_type": "code",
      "source": [
        "x=0\n",
        "while (x<26):\n",
        "  print(chr(65+x), end = \" \")\n",
        "  x+=1\n",
        "\n",
        "print(\"\\n\")\n",
        "\n",
        "y=0\n",
        "while (y<26):\n",
        "  print(chr(97+y), end = \" \")\n",
        "  y+=1"
      ],
      "metadata": {
        "id": "7NYLjyZKGLeX"
      },
      "execution_count": null,
      "outputs": []
    },
    {
      "cell_type": "markdown",
      "source": [
        "###8)Write a program to sotre numbers in the List and pront its reverse"
      ],
      "metadata": {
        "id": "PkPPTrivjran"
      }
    },
    {
      "cell_type": "code",
      "source": [
        "list=[1, 2, 3, 4, 5]\n",
        "list.reverse()\n",
        "print(list)"
      ],
      "metadata": {
        "id": "LloWleZiJAAV"
      },
      "execution_count": null,
      "outputs": []
    },
    {
      "cell_type": "markdown",
      "source": [
        "### 9) Write a program to print the multiplcation table of any number"
      ],
      "metadata": {
        "id": "2JoHNIaCj7fR"
      }
    },
    {
      "cell_type": "code",
      "source": [
        "number= int(input(\"Enter the number: \"))\n",
        "for x in range(0,13):\n",
        "  print(number*x)"
      ],
      "metadata": {
        "id": "-ozyCKFkJnfb"
      },
      "execution_count": null,
      "outputs": []
    },
    {
      "cell_type": "markdown",
      "source": [
        "###10)Write a program to print all even numbers between 1 to 100.(using while loop)"
      ],
      "metadata": {
        "id": "WTIX9yh1kLs-"
      }
    },
    {
      "cell_type": "code",
      "source": [
        "x=1\n",
        "while (x<=100):\n",
        "  if(x%2== 0):\n",
        "    print(x)\n",
        "  x+=1"
      ],
      "metadata": {
        "id": "q4h748CxMHmp"
      },
      "execution_count": null,
      "outputs": []
    }
  ]
}