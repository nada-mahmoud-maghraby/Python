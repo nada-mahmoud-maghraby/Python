{
  "cells": [
    {
      "cell_type": "markdown",
      "metadata": {
        "id": "7rMJIubZGObP"
      },
      "source": [
        "#### Multiply 10 with 5, and print the result.\n",
        "\n"
      ]
    },
    {
      "cell_type": "code",
      "source": [
        "a=int(input(\"Enter the first number: \"))\n",
        "b=int(input(\"Enter the second number: \"))\n",
        "print(a*b)"
      ],
      "metadata": {
        "colab": {
          "base_uri": "https://localhost:8080/"
        },
        "id": "KviVbV75ADTM",
        "outputId": "7ecbd0c0-364a-4376-e47f-40bfaf1938d5"
      },
      "execution_count": 1,
      "outputs": [
        {
          "output_type": "stream",
          "name": "stdout",
          "text": [
            "Enter the first number: 10\n",
            "Enter the second number: 5\n",
            "50\n"
          ]
        }
      ]
    },
    {
      "cell_type": "markdown",
      "metadata": {
        "id": "Mucrs9f5GYw3"
      },
      "source": [
        "### Divide 10 by 2, and print the result.\n",
        "\n"
      ]
    },
    {
      "cell_type": "code",
      "source": [
        "a=int(input(\"Enter the largest number: \"))\n",
        "b=int(input(\"Enter the smallest number: \"))\n",
        "print(a/b)"
      ],
      "metadata": {
        "colab": {
          "base_uri": "https://localhost:8080/"
        },
        "id": "pTQwaYYwAXI2",
        "outputId": "df963a85-529a-410e-d0ff-742aaa0d4e3d"
      },
      "execution_count": 2,
      "outputs": [
        {
          "output_type": "stream",
          "name": "stdout",
          "text": [
            "Enter the largest number: 10\n",
            "Enter the smallest number: 2\n",
            "5.0\n"
          ]
        }
      ]
    },
    {
      "cell_type": "markdown",
      "metadata": {
        "id": "GhvrFFPxGkLF"
      },
      "source": [
        "### Use the correct membership operator to check if \"apple\" is present in the fruits object.\n",
        "\n"
      ]
    },
    {
      "cell_type": "code",
      "source": [
        "fruits=[\"apple\", \"orange\", \"banana\"]\n",
        "for x in fruits:\n",
        "  if(x==\"apple\"):\n",
        "    print(True)\n",
        "    break\n",
        "  else:\n",
        "    print(False)\n",
        "    break\n",
        "#Simple way:\n",
        "#fruits=[\"apple\", \"orange\", \"banana\"]\n",
        "#if \"apple\" in fruits:\n",
        "#print(\"apple\")"
      ],
      "metadata": {
        "colab": {
          "base_uri": "https://localhost:8080/"
        },
        "id": "Ges29zHwAla6",
        "outputId": "3f3816e6-2d70-4c0e-8a05-86cf01b0fbc6"
      },
      "execution_count": 5,
      "outputs": [
        {
          "output_type": "stream",
          "name": "stdout",
          "text": [
            "True\n"
          ]
        }
      ]
    },
    {
      "cell_type": "markdown",
      "metadata": {
        "id": "71TfNEQxGuNw"
      },
      "source": [
        "### Use the correct comparison operator to check if 5 is `not equal` to 10.\n",
        "\n"
      ]
    },
    {
      "cell_type": "code",
      "source": [
        "a=int(input(\"Enter the number: \"))\n",
        "if(a==10):\n",
        "  print(True)\n",
        "else:\n",
        "  print(False)"
      ],
      "metadata": {
        "colab": {
          "base_uri": "https://localhost:8080/"
        },
        "id": "EInS7pXcBdpM",
        "outputId": "59df8763-f907-4568-d318-5198628c415f"
      },
      "execution_count": 7,
      "outputs": [
        {
          "output_type": "stream",
          "name": "stdout",
          "text": [
            "Enter the number: 5\n",
            "False\n"
          ]
        }
      ]
    },
    {
      "cell_type": "markdown",
      "metadata": {
        "id": "_cqga3VjG9jJ"
      },
      "source": [
        "### Use the correct logical operator to check if at least one of two statements is `True`.\n",
        "\n"
      ]
    },
    {
      "cell_type": "code",
      "source": [
        "a=int(input(\"Enter the first number: \"))\n",
        "b=int(input(\"Enter the second number: \"))\n",
        "if((a==10) or (b==10)):\n",
        "  print(True)\n",
        "else:\n",
        "  print(False)"
      ],
      "metadata": {
        "colab": {
          "base_uri": "https://localhost:8080/"
        },
        "id": "GJTru8iABjK0",
        "outputId": "d1fc6c10-e4aa-450e-b49c-b184ee8db968"
      },
      "execution_count": 9,
      "outputs": [
        {
          "output_type": "stream",
          "name": "stdout",
          "text": [
            "Enter the first number: 10\n",
            "Enter the second number: 2\n",
            "True\n"
          ]
        }
      ]
    },
    {
      "cell_type": "markdown",
      "metadata": {
        "id": "gvFm9RC4H2BJ"
      },
      "source": [
        "### Print the second item in the fruits list.\n",
        "\n"
      ]
    },
    {
      "cell_type": "code",
      "source": [
        "fruits=[\"Apple\", \"Orange\", \"Banana\",\"Strawberry\", \"Blueberry\"]\n",
        "print(fruits[1])"
      ],
      "metadata": {
        "colab": {
          "base_uri": "https://localhost:8080/"
        },
        "id": "dcqF3Db2Bv1P",
        "outputId": "623e03db-a81d-4293-a9b5-f3c1fc2baad6"
      },
      "execution_count": 17,
      "outputs": [
        {
          "output_type": "stream",
          "name": "stdout",
          "text": [
            "Orange\n"
          ]
        }
      ]
    },
    {
      "cell_type": "markdown",
      "metadata": {
        "id": "_o7i99HGICNC"
      },
      "source": [
        "### Change the value from \"apple\" to \"kiwi\", in the fruits list.\n",
        "\n"
      ]
    },
    {
      "cell_type": "code",
      "source": [
        "fruits[0]=\"Kiwi\"\n",
        "print(fruits)"
      ],
      "metadata": {
        "colab": {
          "base_uri": "https://localhost:8080/"
        },
        "id": "yYsH5wxpB07s",
        "outputId": "8b1660f7-8fd7-449d-9c9f-020c36323ae3"
      },
      "execution_count": 21,
      "outputs": [
        {
          "output_type": "stream",
          "name": "stdout",
          "text": [
            "['Kiwi', 'Lemon', 'Banana', 'Strawberry', 'Blueberry', 'Orange']\n"
          ]
        }
      ]
    },
    {
      "cell_type": "markdown",
      "metadata": {
        "id": "Wxi383HNILra"
      },
      "source": [
        "### Use the append method to add \"orange\" to the fruits list.\n",
        "\n"
      ]
    },
    {
      "cell_type": "code",
      "source": [
        "fruits.append(\"Orange\")\n",
        "print(fruits)"
      ],
      "metadata": {
        "colab": {
          "base_uri": "https://localhost:8080/"
        },
        "id": "bnuLQHTKB8Lf",
        "outputId": "b0dedc4b-4678-4032-d75d-76b7d3d4fd68"
      },
      "execution_count": 20,
      "outputs": [
        {
          "output_type": "stream",
          "name": "stdout",
          "text": [
            "['Apple', 'Lemon', 'Banana', 'Strawberry', 'Blueberry', 'Orange']\n"
          ]
        }
      ]
    },
    {
      "cell_type": "markdown",
      "metadata": {
        "id": "z6tv8q6zIUjZ"
      },
      "source": [
        "### Use the insert method to add \"lemon\" as the second item in the fruits list.\n",
        "\n"
      ]
    },
    {
      "cell_type": "code",
      "source": [
        "fruits.insert(1,\"Lemon\")\n",
        "print(fruits)"
      ],
      "metadata": {
        "colab": {
          "base_uri": "https://localhost:8080/"
        },
        "id": "LfLHrXkqCA6q",
        "outputId": "74521449-1991-4ec9-cf6b-5e63c3d0a582"
      },
      "execution_count": 18,
      "outputs": [
        {
          "output_type": "stream",
          "name": "stdout",
          "text": [
            "['Apple', 'Lemon', 'Orange', 'Banana', 'Strawberry', 'Blueberry']\n"
          ]
        }
      ]
    },
    {
      "cell_type": "markdown",
      "metadata": {
        "id": "CsyceyyBIiSw"
      },
      "source": [
        "### Use the remove method to remove `\"banana\"` from the fruits list.\n",
        "\n"
      ]
    },
    {
      "cell_type": "code",
      "source": [
        "fruits.remove(\"Orange\") #Remove only first value = Ornage if it repeated more than once.\n",
        "print(fruits)"
      ],
      "metadata": {
        "colab": {
          "base_uri": "https://localhost:8080/"
        },
        "id": "UaRCiDEYCF1s",
        "outputId": "85051ba1-0aec-45c3-f6f3-3ff3d4808f11"
      },
      "execution_count": 19,
      "outputs": [
        {
          "output_type": "stream",
          "name": "stdout",
          "text": [
            "['Apple', 'Lemon', 'Banana', 'Strawberry', 'Blueberry']\n"
          ]
        }
      ]
    },
    {
      "cell_type": "markdown",
      "metadata": {
        "id": "0fbTHlYrIrwY"
      },
      "source": [
        "### Use negative indexing to print the last item in the list.\n",
        "\n"
      ]
    },
    {
      "cell_type": "code",
      "source": [
        "print(fruits[-1])"
      ],
      "metadata": {
        "colab": {
          "base_uri": "https://localhost:8080/"
        },
        "id": "4AYl-rJECMHI",
        "outputId": "a4e331ea-0ca2-40b4-b7e9-11d96106ab9a"
      },
      "execution_count": 23,
      "outputs": [
        {
          "output_type": "stream",
          "name": "stdout",
          "text": [
            "Orange\n"
          ]
        }
      ]
    },
    {
      "cell_type": "markdown",
      "metadata": {
        "id": "rR3ORmMVI55Z"
      },
      "source": [
        "### Use a range of indexes to print the third, fourth, and fifth item in the list.\n",
        "\n"
      ]
    },
    {
      "cell_type": "code",
      "source": [
        "print(fruits[3:6]) #range from index 3 to index 5 (6-1)"
      ],
      "metadata": {
        "colab": {
          "base_uri": "https://localhost:8080/"
        },
        "id": "mui4mzbFCRWQ",
        "outputId": "4b0a935f-4cec-4282-da0f-fa2430c13953"
      },
      "execution_count": 22,
      "outputs": [
        {
          "output_type": "stream",
          "name": "stdout",
          "text": [
            "['Strawberry', 'Blueberry', 'Orange']\n"
          ]
        }
      ]
    },
    {
      "cell_type": "markdown",
      "metadata": {
        "id": "tc0ZAGQ2JfM9"
      },
      "source": [
        "### Use the correct syntax to print the number of items in the list.\n",
        "\n"
      ]
    },
    {
      "cell_type": "code",
      "source": [
        "print(fruits)\n",
        "len(fruits)"
      ],
      "metadata": {
        "colab": {
          "base_uri": "https://localhost:8080/"
        },
        "id": "ntK-oiZbCz7z",
        "outputId": "23f187fb-9a86-4bd3-d2bb-cdf27a4e0963"
      },
      "execution_count": 32,
      "outputs": [
        {
          "output_type": "stream",
          "name": "stdout",
          "text": [
            "['Kiwi', 'Lemon', 'Banana', 'Strawberry', 'Blueberry', 'Orange']\n"
          ]
        }
      ]
    },
    {
      "cell_type": "markdown",
      "metadata": {
        "id": "feYJq0vYKe1S"
      },
      "source": [
        "### Write a Python program to print all even numbers from a given list of numbers in the same order and stop printing any after 237 in the sequence."
      ]
    },
    {
      "cell_type": "markdown",
      "metadata": {
        "id": "ec1qLM7DKnea"
      },
      "source": [
        "#### numbers = [    \n",
        "    386, 462, 47, 418, 907, 344, 236, 375, 823, 566, 597, 978, 328, 615, 953, 345,\n",
        "    399, 162, 758, 219, 918, 237, 412, 566, 826, 248, 866, 950, 626, 949, 687, 217,\n",
        "    815, 67, 104, 58, 512, 24, 892, 894, 767, 553, 81, 379, 843, 831, 445, 742, 717,\n",
        "    958,743, 527\n",
        "    ]"
      ]
    },
    {
      "cell_type": "code",
      "source": [
        "x=[386, 462, 47, 418, 907, 344, 236, 375, 823, 566, 597, 978, 328, 615, 953, 345,\n",
        "399, 162, 758, 219, 918, 237, 412, 566, 826, 248, 866, 950, 626, 949, 687, 217,\n",
        "815, 67, 104, 58, 512, 24, 892, 894, 767, 553, 81, 379, 843, 831, 445, 742, 717,\n",
        "958,743, 527]\n",
        "for i in x:\n",
        "  if (i==237):\n",
        "    break\n",
        "  if(i%2 ==0):\n",
        "    print(i)"
      ],
      "metadata": {
        "colab": {
          "base_uri": "https://localhost:8080/"
        },
        "id": "FI7Iypp3C_Qv",
        "outputId": "06b12652-24fa-437e-c8d1-ab05be85b343"
      },
      "execution_count": 24,
      "outputs": [
        {
          "output_type": "stream",
          "name": "stdout",
          "text": [
            "386\n",
            "462\n",
            "418\n",
            "344\n",
            "236\n",
            "566\n",
            "978\n",
            "328\n",
            "162\n",
            "758\n",
            "918\n"
          ]
        }
      ]
    },
    {
      "cell_type": "markdown",
      "metadata": {
        "id": "FX6mi5tqLb5J"
      },
      "source": [
        "### Write a Python program that will accept the base and height of a triangle and compute its area.\n",
        "\n"
      ]
    },
    {
      "cell_type": "markdown",
      "metadata": {
        "id": "mt1FKNPYLN0I"
      },
      "source": [
        "<img src=\"https://www.w3resource.com/w3r_images/python-area-triangle-basic-exercise-30.png\" alt=\"Girl in a jacket\" width=\"500\" height=\"600\">\n"
      ]
    },
    {
      "cell_type": "code",
      "source": [
        "x = float(input(\"Enter the base of triangle: \"))\n",
        "y = float(input(\"Enter the height of triangle: \"))\n",
        "Area = ((x*y)/2)\n",
        "print(Area)"
      ],
      "metadata": {
        "colab": {
          "base_uri": "https://localhost:8080/"
        },
        "id": "RCWcs92qDc7T",
        "outputId": "99410103-679f-45b9-a038-8b541a04cb2e"
      },
      "execution_count": 25,
      "outputs": [
        {
          "output_type": "stream",
          "name": "stdout",
          "text": [
            "Enter the base of triangle: 5\n",
            "Enter the height of triangle: 5\n",
            "12.5\n"
          ]
        }
      ]
    },
    {
      "cell_type": "markdown",
      "metadata": {
        "id": "tP7gY2ZCPxnU"
      },
      "source": [
        "### Sort three integers without using conditional statements\n",
        "\n"
      ]
    },
    {
      "cell_type": "markdown",
      "metadata": {
        "id": "Xwy7VRdJPtxN"
      },
      "source": [
        "<img src=\"https://www.w3resource.com/w3r_images/python-basic-image-exercise-69.png\" alt=\"Girl in a jacket\" width=\"500\" height=\"600\">\n"
      ]
    },
    {
      "cell_type": "code",
      "source": [
        "x = int(input(\"Enter the first number: \"))\n",
        "y = int(input(\"Enter the second number: \"))\n",
        "z = int(input(\"Enter the third number: \"))\n",
        "a= min(x,y,z)\n",
        "b= max(x,y,z)\n",
        "c= (x+y+z)-b-a\n",
        "print(a)\n",
        "print(b)\n",
        "print(c)"
      ],
      "metadata": {
        "colab": {
          "base_uri": "https://localhost:8080/"
        },
        "id": "aq4esiREDlVE",
        "outputId": "36036cf7-4d19-4dda-d3ae-85e1c9d801a8"
      },
      "execution_count": 27,
      "outputs": [
        {
          "output_type": "stream",
          "name": "stdout",
          "text": [
            "Enter the first number: 8\n",
            "Enter the second number: 3\n",
            "Enter the third number: 7\n",
            "3\n",
            "8\n",
            "7\n"
          ]
        }
      ]
    },
    {
      "cell_type": "markdown",
      "metadata": {
        "id": "zNKNtPGrRbvr"
      },
      "source": [
        "### Sort three integers :using conditional statements\n",
        "\n",
        "\n",
        "\n"
      ]
    },
    {
      "cell_type": "code",
      "source": [
        "a = int(input(\"Enter the first number: \"))\n",
        "b = int(input(\"Enter the second number: \"))\n",
        "c = int(input(\"Enter the third number: \"))\n",
        "if a>b:\n",
        "  a,b = b,a\n",
        "if a>c:\n",
        "  a,c = c,a\n",
        "if b>c:\n",
        "  b,c = c,b\n",
        "print (a, \"<\" , b, \"<\", c)"
      ],
      "metadata": {
        "colab": {
          "base_uri": "https://localhost:8080/"
        },
        "id": "UDFsZSoxD1Lc",
        "outputId": "ef04b107-9a03-4dae-aab0-4b23e05bf908"
      },
      "execution_count": 28,
      "outputs": [
        {
          "output_type": "stream",
          "name": "stdout",
          "text": [
            "Enter the first number: 5\n",
            "Enter the second number: 2\n",
            "Enter the third number: 3\n",
            "2 < 3 < 5\n"
          ]
        }
      ]
    },
    {
      "cell_type": "markdown",
      "metadata": {
        "id": "nn6opiI8Uj1-"
      },
      "source": [
        "#### Write a Python function that takes a sequence of numbers and determines whether all the numbers are different from each other."
      ]
    },
    {
      "cell_type": "markdown",
      "metadata": {
        "id": "9LQTVtiGVJ9r"
      },
      "source": [
        "<img src=\"https://www.w3resource.com/w3r_images/python-basic-1-image-exercise-1.png\" alt=\"Girl in a jacket\" width=\"500\" height=\"600\">\n"
      ]
    },
    {
      "cell_type": "code",
      "source": [
        "numbers = [int(x) for x in input()]\n",
        "if len(numbers) == len(set(numbers)):\n",
        "  print(True)\n",
        "else:\n",
        "  print(False)"
      ],
      "metadata": {
        "colab": {
          "base_uri": "https://localhost:8080/"
        },
        "id": "RSFWEzR2Ei_G",
        "outputId": "22465ab1-45da-4c1e-bc02-a74573b64683"
      },
      "execution_count": 47,
      "outputs": [
        {
          "output_type": "stream",
          "name": "stdout",
          "text": [
            "23456789\n",
            "True\n"
          ]
        }
      ]
    },
    {
      "cell_type": "markdown",
      "metadata": {
        "id": "HHNeCzCWa3lx"
      },
      "source": [
        "#### Dictionary"
      ]
    },
    {
      "cell_type": "code",
      "execution_count": 48,
      "metadata": {
        "colab": {
          "base_uri": "https://localhost:8080/"
        },
        "id": "WOrfDlTla-Lf",
        "outputId": "e56f7627-4f5e-4247-d569-9828bfd3f52d"
      },
      "outputs": [
        {
          "output_type": "execute_result",
          "data": {
            "text/plain": [
              "['a', 'b', 'c']"
            ]
          },
          "metadata": {},
          "execution_count": 48
        }
      ],
      "source": [
        "dict1 = {'a': 100, 'b': 200, 'c': 300}\n",
        "list(dict1.keys())"
      ]
    },
    {
      "cell_type": "code",
      "execution_count": 49,
      "metadata": {
        "colab": {
          "base_uri": "https://localhost:8080/"
        },
        "id": "DAdr9gOQbDng",
        "outputId": "a2996f33-b624-4153-cedd-f5e6584cd6bb"
      },
      "outputs": [
        {
          "output_type": "execute_result",
          "data": {
            "text/plain": [
              "[200, 300]"
            ]
          },
          "metadata": {},
          "execution_count": 49
        }
      ],
      "source": [
        "dict1 = {'a': 100, 'a': 200, 'c': 300}\n",
        "list(dict1.values())"
      ]
    },
    {
      "cell_type": "code",
      "execution_count": 51,
      "metadata": {
        "colab": {
          "base_uri": "https://localhost:8080/"
        },
        "id": "XzjcaUpqbMGc",
        "outputId": "ecfba5e6-b963-4fb7-962b-e1d1cf179a14"
      },
      "outputs": [
        {
          "output_type": "execute_result",
          "data": {
            "text/plain": [
              "[('a', 200), ('c', 300)]"
            ]
          },
          "metadata": {},
          "execution_count": 51
        }
      ],
      "source": [
        "dict1 = {'a': 100, 'a': 200, 'c': 300}\n",
        "list(dict1.items())"
      ]
    },
    {
      "cell_type": "markdown",
      "metadata": {
        "id": "6c1ld1XoZ_RK"
      },
      "source": [
        "```\n",
        "Input : {‘a’: 100, ‘b’:200, ‘c’:300}\n",
        "```\n",
        "Output : 600\n",
        "```\n",
        "# Input : {‘x’: 25, ‘y’:18, ‘z’:45}\n",
        "\n",
        "```\n",
        "Output : 88"
      ]
    },
    {
      "cell_type": "code",
      "execution_count": 53,
      "metadata": {
        "colab": {
          "base_uri": "https://localhost:8080/"
        },
        "id": "tXhL4XGdR6oE",
        "outputId": "e47e4769-add9-4e14-ea11-8005df45fda6"
      },
      "outputs": [
        {
          "output_type": "stream",
          "name": "stdout",
          "text": [
            "15\n",
            "15\n",
            "15\n",
            "15\n"
          ]
        }
      ],
      "source": [
        "print(sum([0,1,2,3,4,5]))\n",
        "print(sum((0,1,2,3,4,5)))\n",
        "print(sum({0,1,2,3,4,5}))\n",
        "print(sum({5:5,10:11}))"
      ]
    },
    {
      "cell_type": "markdown",
      "source": [
        "### Python program to find the sum of all values in a dictionary\n"
      ],
      "metadata": {
        "id": "6BJBp-omBEnB"
      }
    },
    {
      "cell_type": "code",
      "source": [
        "dict1 = {\"a\": 100, \"b\": 200, \"c\": 300}\n",
        "print(sum(list(dict1.values())))"
      ],
      "metadata": {
        "colab": {
          "base_uri": "https://localhost:8080/"
        },
        "id": "oGiQ8q6eKSK7",
        "outputId": "2694ce09-7e61-44eb-c010-4a3b423fa1d1"
      },
      "execution_count": 64,
      "outputs": [
        {
          "output_type": "stream",
          "name": "stdout",
          "text": [
            "600\n"
          ]
        }
      ]
    },
    {
      "cell_type": "markdown",
      "metadata": {
        "id": "LcvPYHMNb3KI"
      },
      "source": [
        "### Filter the negative values from given dictionary"
      ]
    },
    {
      "cell_type": "code",
      "source": [
        "def Filter_negative(item):\n",
        "  k, v = item\n",
        "  if (v < 0):\n",
        "    return\n",
        "  return (k, v)\n",
        "dict1 = {'a': 1, 'b': -2, 'c': -3, 'd': 7, 'e': 0}\n",
        "result = dict(filter(None, map(Filter_negative, dict1.items())))\n",
        "print (result)"
      ],
      "metadata": {
        "colab": {
          "base_uri": "https://localhost:8080/"
        },
        "id": "LQPV5w-aMVi9",
        "outputId": "8b2a2dd0-865e-4e1f-fb49-521452554581"
      },
      "execution_count": 65,
      "outputs": [
        {
          "output_type": "stream",
          "name": "stdout",
          "text": [
            "{'a': 1, 'd': 7, 'e': 0}\n"
          ]
        }
      ]
    },
    {
      "cell_type": "markdown",
      "metadata": {
        "id": "zIj0KxvgIO58"
      },
      "source": [
        "### Test if all Values are Same in Dictionary"
      ]
    },
    {
      "cell_type": "code",
      "source": [
        "from collections import Counter\n",
        "dict2 = {\"Gfg\": 8, \"is\": 5, \"Best\": 5}\n",
        "x = list(dict2.values())\n",
        "a = False\n",
        "freq = Counter(x)\n",
        "if(len(freq) == 1):\n",
        "    a = True\n",
        "print(str(a))"
      ],
      "metadata": {
        "colab": {
          "base_uri": "https://localhost:8080/"
        },
        "id": "QFl1xiu5Poy7",
        "outputId": "b61a2e46-ac7a-4131-caf4-1681b4e367e3"
      },
      "execution_count": 109,
      "outputs": [
        {
          "output_type": "stream",
          "name": "stdout",
          "text": [
            "False\n"
          ]
        }
      ]
    },
    {
      "cell_type": "markdown",
      "metadata": {
        "id": "-aCAiR5mktpN"
      },
      "source": [
        "### test_dict = {\"Gfg\": 8, \"is\": 5, \"Best\": 5}\n",
        "### False"
      ]
    },
    {
      "cell_type": "markdown",
      "metadata": {
        "id": "PG5Z5JNJMLTi"
      },
      "source": [
        "# `any`"
      ]
    },
    {
      "cell_type": "code",
      "execution_count": 110,
      "metadata": {
        "colab": {
          "base_uri": "https://localhost:8080/"
        },
        "id": "42838XSZMPoh",
        "outputId": "890b5a9b-edb0-42b6-eb20-e2ec2c9d2230"
      },
      "outputs": [
        {
          "output_type": "stream",
          "name": "stdout",
          "text": [
            "True\n"
          ]
        }
      ],
      "source": [
        "mylist = [False, True, False]\n",
        "x = any(mylist)\n",
        "print(x)\n"
      ]
    },
    {
      "cell_type": "code",
      "execution_count": 111,
      "metadata": {
        "colab": {
          "base_uri": "https://localhost:8080/"
        },
        "id": "jMcpwFY0MonY",
        "outputId": "865da9fa-b396-4713-f0f2-1cbe76c96b42"
      },
      "outputs": [
        {
          "output_type": "stream",
          "name": "stdout",
          "text": [
            "True\n"
          ]
        }
      ],
      "source": [
        "mydict = {0 : \"Apple\", 1 : \"Orange\"}\n",
        "x = any(mydict)\n",
        "print(x)"
      ]
    },
    {
      "cell_type": "code",
      "execution_count": 112,
      "metadata": {
        "colab": {
          "base_uri": "https://localhost:8080/"
        },
        "id": "sDyzrjk5MuOl",
        "outputId": "643d57e5-4714-4e2f-8aca-65cb1d7992a4"
      },
      "outputs": [
        {
          "output_type": "stream",
          "name": "stdout",
          "text": [
            "False\n"
          ]
        }
      ],
      "source": [
        "mydict = {0 : \"Apple\", 0 : True}\n",
        "x = any(mydict)\n",
        "print(x)"
      ]
    },
    {
      "cell_type": "markdown",
      "metadata": {
        "id": "hrg9MKDKMb0Y"
      },
      "source": [
        "#### <font color='gold'>Note: When used on a dictionary, the any() function checks if any of the keys are true, not the values.</font>\n",
        "\n",
        "\n"
      ]
    },
    {
      "cell_type": "markdown",
      "source": [
        "### Test if vlaue input  in dictionary value"
      ],
      "metadata": {
        "id": "RXYELJ29BVOm"
      }
    },
    {
      "cell_type": "code",
      "source": [
        "dict2 = {'a': 1, 'b': 2, 'c': 3}\n",
        "x=int(input(\"Enter the Value: \"))\n",
        "if x in dict2.values():\n",
        "    print(\"Yes, It exists in dictionary\")\n",
        "else:\n",
        "    print(\"No, It doesn't exist in dictionary\")"
      ],
      "metadata": {
        "colab": {
          "base_uri": "https://localhost:8080/"
        },
        "id": "CPxQfK-jPZPI",
        "outputId": "f1b6c0db-d620-4fac-8e39-9fd524dca0f0"
      },
      "execution_count": 33,
      "outputs": [
        {
          "output_type": "stream",
          "name": "stdout",
          "text": [
            "Enter the Value: 1\n",
            "Yes, It exists in dictionary\n"
          ]
        }
      ]
    },
    {
      "cell_type": "markdown",
      "metadata": {
        "id": "3GT4F80UOaTa"
      },
      "source": [
        "### Calculate the sum of all numbers from 0 to a given number"
      ]
    },
    {
      "cell_type": "code",
      "source": [
        "x=int(input(\"Enter the number: \"))\n",
        "print(x * (x + 1) // 2)\n"
      ],
      "metadata": {
        "colab": {
          "base_uri": "https://localhost:8080/"
        },
        "id": "8V0GUrdhlMdH",
        "outputId": "b449ba95-cf64-4dcd-e233-946f7b5369e5"
      },
      "execution_count": 26,
      "outputs": [
        {
          "output_type": "stream",
          "name": "stdout",
          "text": [
            "Enter the number: 5\n",
            "15\n"
          ]
        }
      ]
    },
    {
      "cell_type": "markdown",
      "metadata": {
        "id": "1tHglDPNUT5J"
      },
      "source": [
        "\n",
        "### Find the factorial of a given number using while loop"
      ]
    },
    {
      "cell_type": "code",
      "source": [
        "#import math\n",
        "x=int(input(\"Enter the number: \"))\n",
        "#print(math.factorial(x))\n",
        "n=1\n",
        "fact=1\n",
        "while(n<x+1):\n",
        "  fact=fact*n\n",
        "  n+=1\n",
        "print(fact)"
      ],
      "metadata": {
        "colab": {
          "base_uri": "https://localhost:8080/"
        },
        "id": "Pab8M1edW6ti",
        "outputId": "9ad5cd89-132e-4b8d-9de3-3aa27efd2c53"
      },
      "execution_count": 47,
      "outputs": [
        {
          "output_type": "stream",
          "name": "stdout",
          "text": [
            "Enter the number: 5\n",
            "120\n"
          ]
        }
      ]
    },
    {
      "cell_type": "markdown",
      "metadata": {
        "id": "QT1487BDVCIU"
      },
      "source": [
        "#### For example: calculate the factorial of 5\n",
        "\n"
      ]
    },
    {
      "cell_type": "markdown",
      "metadata": {
        "id": "FCTJ9pt_VE-y"
      },
      "source": [
        "\n",
        "\n",
        "```\n",
        "# 5! = 5 × 4 × 3 × 2 × 1 = 120\n",
        "\n",
        "```\n",
        "\n"
      ]
    },
    {
      "cell_type": "markdown",
      "metadata": {
        "id": "q_f9IMbDYkLm"
      },
      "source": [
        "### Use a loop to display elements from a given list present at odd index positions"
      ]
    },
    {
      "cell_type": "code",
      "source": [
        "x = [10, 20, 30, 40, 50, 60, 70, 80, 90, 100]\n",
        "for i in range(1, len(x), 2):\n",
        "    print(x[i]);"
      ],
      "metadata": {
        "colab": {
          "base_uri": "https://localhost:8080/"
        },
        "id": "WMQ_d3VPZ3qe",
        "outputId": "3c43a91e-4460-47b6-ed9e-dfaa8cb9d5f5"
      },
      "execution_count": 54,
      "outputs": [
        {
          "output_type": "stream",
          "name": "stdout",
          "text": [
            "20\n",
            "40\n",
            "60\n",
            "80\n",
            "100\n"
          ]
        }
      ]
    },
    {
      "cell_type": "markdown",
      "metadata": {
        "id": "Q9gHbx7XZBFc"
      },
      "source": [
        "```\n",
        "my_list = [10, 20, 30, 40, 50, 60, 70, 80, 90, 100]\n",
        "Expected output:\n",
        "20 40 60 80 100\n",
        "```\n",
        "\n"
      ]
    },
    {
      "cell_type": "markdown",
      "metadata": {
        "id": "otJlQghGZZnk"
      },
      "source": [
        "### Calculate the cube of all numbers from 1 to a given number"
      ]
    },
    {
      "cell_type": "code",
      "source": [
        "def sumOfSeries(n):\n",
        "    x = (n * (n + 1) / 2)\n",
        "    return (int)(x * x)\n",
        "print(sumOfSeries(2))"
      ],
      "metadata": {
        "colab": {
          "base_uri": "https://localhost:8080/"
        },
        "id": "XWE8RN_Va0-1",
        "outputId": "3c9149e5-d56f-422d-d44e-56d91c9199c8"
      },
      "execution_count": 3,
      "outputs": [
        {
          "output_type": "stream",
          "name": "stdout",
          "text": [
            "9\n"
          ]
        }
      ]
    },
    {
      "cell_type": "markdown",
      "metadata": {
        "id": "NRZ3LLaUmtQu"
      },
      "source": [
        "### len of str in list\n",
        "### ['apple', 'orange', 'cat']"
      ]
    },
    {
      "cell_type": "code",
      "execution_count": 4,
      "metadata": {
        "colab": {
          "base_uri": "https://localhost:8080/"
        },
        "id": "bIhFj4Q8ZlrW",
        "outputId": "a0566511-0b6c-4ef8-8370-d3f63f9ab9a8"
      },
      "outputs": [
        {
          "output_type": "stream",
          "name": "stdout",
          "text": [
            "[5, 6, 3]\n"
          ]
        }
      ],
      "source": [
        "ls = ['apple', 'orange', 'cat']\n",
        "print([ len(i) for i in ls])\n"
      ]
    },
    {
      "cell_type": "markdown",
      "metadata": {
        "id": "V05BjYlMeMjZ"
      },
      "source": [
        "### program to count number of vowels using sets in given string\n",
        "\n",
        "1.   List item\n",
        "2.   List item\n",
        "\n",
        "\n"
      ]
    },
    {
      "cell_type": "code",
      "source": [
        "string1= \"Nada mahmoud maghraby\"\n",
        "vowels = \"aeiouAEIOU\"\n",
        "count = sum(string1.count(vowel) for vowel in vowels)\n",
        "print(count)"
      ],
      "metadata": {
        "colab": {
          "base_uri": "https://localhost:8080/"
        },
        "id": "R_Kp_DCFTASz",
        "outputId": "e1e3355b-7070-4c62-982b-4dd16555faf3"
      },
      "execution_count": 7,
      "outputs": [
        {
          "output_type": "stream",
          "name": "stdout",
          "text": [
            "7\n"
          ]
        }
      ]
    },
    {
      "cell_type": "markdown",
      "metadata": {
        "id": "rdIZGB8kgcMQ"
      },
      "source": [
        "\n",
        "### Write a Python program to add an item to a tuple."
      ]
    },
    {
      "cell_type": "code",
      "source": [
        "tuple_one = (1,2,3,4,5,\"Amit\", \"Learning\")\n",
        "list_one = list(tuple_one)\n",
        "list_one.append(\"Academy\")\n",
        "print(list_one)"
      ],
      "metadata": {
        "colab": {
          "base_uri": "https://localhost:8080/"
        },
        "id": "5IZU333QyI81",
        "outputId": "13097470-8498-44fc-83a1-d26a1ed3edce"
      },
      "execution_count": 5,
      "outputs": [
        {
          "output_type": "stream",
          "name": "stdout",
          "text": [
            "[1, 2, 3, 4, 5, 'Amit', 'Learning', 'Academy']\n"
          ]
        }
      ]
    },
    {
      "cell_type": "markdown",
      "metadata": {
        "id": "NpZ-cEhZkSlO"
      },
      "source": [
        "### Write a Python program to multiply all the items in a list."
      ]
    },
    {
      "cell_type": "code",
      "source": [
        "list_one = [1,2,3,4,5]\n",
        "list_one.extend(list_one)\n",
        "list_one.sort()\n",
        "print(list_one)"
      ],
      "metadata": {
        "colab": {
          "base_uri": "https://localhost:8080/"
        },
        "id": "T3YIWfz81xy0",
        "outputId": "dd6f8bb0-a70a-435d-e242-5473ff84f33c"
      },
      "execution_count": 7,
      "outputs": [
        {
          "output_type": "stream",
          "name": "stdout",
          "text": [
            "[1, 1, 2, 2, 3, 3, 4, 4, 5, 5]\n"
          ]
        }
      ]
    },
    {
      "cell_type": "markdown",
      "metadata": {
        "id": "2fwBrTI1k1XG"
      },
      "source": [
        "### Write a Python program to get the smallest number from a list."
      ]
    },
    {
      "cell_type": "code",
      "source": [
        "list_two = [9,4,7,5,6,2,1,3,8,0]\n",
        "list_two.sort()\n",
        "print(list_two)\n",
        "print(\"The smallest number is : \",list_two[0])"
      ],
      "metadata": {
        "colab": {
          "base_uri": "https://localhost:8080/"
        },
        "id": "De-cSs-Z2YUE",
        "outputId": "7c46636c-ec41-444e-9b89-adbe42dd5156"
      },
      "execution_count": 25,
      "outputs": [
        {
          "output_type": "stream",
          "name": "stdout",
          "text": [
            "[0, 1, 2, 3, 4, 5, 6, 7, 8, 9]\n",
            "The smallest number is :  0\n"
          ]
        }
      ]
    },
    {
      "cell_type": "markdown",
      "metadata": {
        "id": "-k8pdXDek5IW"
      },
      "source": [
        "### Write a Python program to get the largest number from a list."
      ]
    },
    {
      "cell_type": "code",
      "source": [
        "list_two = [9,4,7,5,6,2,1,3,8,0]\n",
        "list_two.sort()\n",
        "print(list_two)\n",
        "print(\"The largest number is : \",list_two[-1])"
      ],
      "metadata": {
        "colab": {
          "base_uri": "https://localhost:8080/"
        },
        "id": "vdGiuKPq4gIS",
        "outputId": "10861170-1f26-4419-d329-1480ba4602be"
      },
      "execution_count": 26,
      "outputs": [
        {
          "output_type": "stream",
          "name": "stdout",
          "text": [
            "[0, 1, 2, 3, 4, 5, 6, 7, 8, 9]\n",
            "The largest number is :  9\n"
          ]
        }
      ]
    },
    {
      "cell_type": "markdown",
      "metadata": {
        "id": "xY1nqjlSlC7b"
      },
      "source": [
        "### Write a Python program to clone or copy a list"
      ]
    },
    {
      "cell_type": "code",
      "source": [
        "list_two = [9,4,7,5,6,2,1,3,8,0]\n",
        "list_three=list_two.copy()\n",
        "print(list_two)\n",
        "print(list_three)"
      ],
      "metadata": {
        "colab": {
          "base_uri": "https://localhost:8080/"
        },
        "id": "MRNVQADn4mrs",
        "outputId": "c37886b9-c416-40c3-e81b-cd36309b4c11"
      },
      "execution_count": 30,
      "outputs": [
        {
          "output_type": "stream",
          "name": "stdout",
          "text": [
            "[9, 4, 7, 5, 6, 2, 1, 3, 8, 0]\n",
            "[9, 4, 7, 5, 6, 2, 1, 3, 8, 0]\n"
          ]
        }
      ]
    },
    {
      "cell_type": "markdown",
      "metadata": {
        "id": "48pndthSlHSg"
      },
      "source": [
        "### Write a Python program to remove item(s) from a given set.\n",
        "\n",
        "### s = set([0, 1, 3, 4, 5])"
      ]
    },
    {
      "cell_type": "code",
      "source": [
        "s=set([0,1,3,4,5])\n",
        "lst= list(s)\n",
        "print(\"This is the set \", lst)\n",
        "item = int(input(\"select the item: \"))\n",
        "lst.remove(item)\n",
        "print(lst)"
      ],
      "metadata": {
        "colab": {
          "base_uri": "https://localhost:8080/"
        },
        "id": "q86vTHpA5K3Z",
        "outputId": "6814466f-7516-490a-d25e-611f1edb461c"
      },
      "execution_count": 41,
      "outputs": [
        {
          "output_type": "stream",
          "name": "stdout",
          "text": [
            "This is the set  [0, 1, 3, 4, 5]\n",
            "select the item: 4\n",
            "[0, 1, 3, 5]\n"
          ]
        }
      ]
    },
    {
      "cell_type": "markdown",
      "metadata": {
        "id": "J5nHkSQ4lmlq"
      },
      "source": [
        "### Write a Python program to find the maximum and minimum values in a set."
      ]
    },
    {
      "cell_type": "code",
      "source": [
        "s=set([0,1,3,4,5])\n",
        "n=max(s)\n",
        "m=min(s)\n",
        "print(\"The maximum number is :\" , n)\n",
        "print(\"The minimum number is :\" , m)"
      ],
      "metadata": {
        "colab": {
          "base_uri": "https://localhost:8080/"
        },
        "id": "5BupayBr-QJU",
        "outputId": "236dce40-dd12-43c6-b0eb-eb701e51ff3f"
      },
      "execution_count": 43,
      "outputs": [
        {
          "output_type": "stream",
          "name": "stdout",
          "text": [
            "The maximum number is : 5\n",
            "The minimum number is : 0\n"
          ]
        }
      ]
    },
    {
      "cell_type": "markdown",
      "metadata": {
        "id": "ZDEKN9ulnLZO"
      },
      "source": [
        "print(\"The maximum number is :\" , n)\n",
        "### Write a Python program to convert a tuple to a dictionary.\n",
        "### dict1 = {}\n",
        "### tuple1 = (\"name\", \"age\", \"city\",\"city\")\n",
        "\n",
        "```\n",
        "# enumerate()\n",
        "```\n",
        "\n"
      ]
    },
    {
      "cell_type": "code",
      "source": [
        "tuple1 = (\"name\", \"age\", \"city\",\"city\")\n",
        "tuple2 = (1,2,3,4)\n",
        "if len(tuple1) == len(tuple2):\n",
        "  dict1=dict(zip(tuple2, tuple1))\n",
        "print(tuple1)\n",
        "print(dict1)"
      ],
      "metadata": {
        "colab": {
          "base_uri": "https://localhost:8080/"
        },
        "id": "gXG88NUe_Ies",
        "outputId": "6155d094-0557-4cb4-eb71-0c6b6a5acd03"
      },
      "execution_count": 62,
      "outputs": [
        {
          "output_type": "stream",
          "name": "stdout",
          "text": [
            "('name', 'age', 'city', 'city')\n",
            "{1: 'name', 2: 'age', 3: 'city', 4: 'city'}\n"
          ]
        }
      ]
    },
    {
      "cell_type": "markdown",
      "metadata": {
        "id": "UN1IZCJHsWcX"
      },
      "source": [
        "### Write a Python program to replace the last value of tuples in a list.\n",
        "\n",
        "### Sample list: [(10, 20, 40), (40, 50, 60), (70, 80, 90)]\n",
        "\n",
        "### Expected Output: [(10, 20, 100), (40, 50, 100), (70, 80, 100)]\n",
        "\n"
      ]
    },
    {
      "cell_type": "code",
      "source": [
        "sample = [(10, 20, 40), (40, 50, 60), (70, 80, 90)]\n",
        "for i in sample:\n",
        "  y = [*i[:-1] , 100]\n",
        "  print(y)\n"
      ],
      "metadata": {
        "colab": {
          "base_uri": "https://localhost:8080/"
        },
        "id": "damF9HScBz1g",
        "outputId": "f6f6dfe6-3f69-476d-b0b8-7d56477ef222"
      },
      "execution_count": 96,
      "outputs": [
        {
          "output_type": "stream",
          "name": "stdout",
          "text": [
            "[10, 20, 100]\n",
            "[40, 50, 100]\n",
            "[70, 80, 100]\n"
          ]
        }
      ]
    }
  ],
  "metadata": {
    "colab": {
      "provenance": []
    },
    "kernelspec": {
      "display_name": "Python 3",
      "name": "python3"
    },
    "language_info": {
      "name": "python"
    }
  },
  "nbformat": 4,
  "nbformat_minor": 0
}